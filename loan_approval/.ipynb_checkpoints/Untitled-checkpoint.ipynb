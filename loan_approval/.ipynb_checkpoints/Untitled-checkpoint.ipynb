{
 "cells": [
  {
   "cell_type": "code",
   "execution_count": 31,
   "id": "62944b13-c187-42a7-8132-433e50b68a79",
   "metadata": {},
   "outputs": [
    {
     "name": "stdout",
     "output_type": "stream",
     "text": [
      "HINT: You are attempting to install a package literally named \"requirements.txt\" (which cannot exist). Consider using the '-r' flag to install the packages listed in requirements.txt\n"
     ]
    },
    {
     "name": "stderr",
     "output_type": "stream",
     "text": [
      "WARNING: Ignoring invalid distribution -ip (c:\\users\\boris\\onedrive\\\\u0440\\u0430\\u0431\\u043e\\u0447\\u0438\\u0439 \\u0441\\u0442\\u043e\\u043b\\ml\\venv\\lib\\site-packages)\n",
      "ERROR: Could not find a version that satisfies the requirement requirements.txt (from versions: none)\n",
      "ERROR: No matching distribution found for requirements.txt\n"
     ]
    }
   ],
   "source": [
    "!pip install requirements"
   ]
  },
  {
   "cell_type": "code",
   "execution_count": 1,
   "id": "60fb2cc8-1860-4c39-9a97-38c43ca65cc8",
   "metadata": {},
   "outputs": [],
   "source": [
    "import numpy as np\n",
    "import pandas as pd\n",
    "import seaborn as sns\n",
    "import matplotlib.pyplot as plt"
   ]
  },
  {
   "cell_type": "code",
   "execution_count": 2,
   "id": "f0d77794-0a70-41a8-8a15-88fc6b9eb3a1",
   "metadata": {},
   "outputs": [],
   "source": [
    "df_train = pd.read_csv('train.csv')"
   ]
  },
  {
   "cell_type": "code",
   "execution_count": 3,
   "id": "db6dc881-694e-44a0-b635-8f1d8838ef52",
   "metadata": {},
   "outputs": [],
   "source": [
    "df_test = pd.read_csv('test.csv')"
   ]
  },
  {
   "cell_type": "code",
   "execution_count": 4,
   "id": "c9ac4697-74cc-4ce0-aec2-13bbbe34afcb",
   "metadata": {},
   "outputs": [
    {
     "name": "stdout",
     "output_type": "stream",
     "text": [
      "<class 'pandas.core.frame.DataFrame'>\n",
      "RangeIndex: 58645 entries, 0 to 58644\n",
      "Data columns (total 13 columns):\n",
      " #   Column                      Non-Null Count  Dtype  \n",
      "---  ------                      --------------  -----  \n",
      " 0   id                          58645 non-null  int64  \n",
      " 1   person_age                  58645 non-null  int64  \n",
      " 2   person_income               58645 non-null  int64  \n",
      " 3   person_home_ownership       58645 non-null  object \n",
      " 4   person_emp_length           58645 non-null  float64\n",
      " 5   loan_intent                 58645 non-null  object \n",
      " 6   loan_grade                  58645 non-null  object \n",
      " 7   loan_amnt                   58645 non-null  int64  \n",
      " 8   loan_int_rate               58645 non-null  float64\n",
      " 9   loan_percent_income         58645 non-null  float64\n",
      " 10  cb_person_default_on_file   58645 non-null  object \n",
      " 11  cb_person_cred_hist_length  58645 non-null  int64  \n",
      " 12  loan_status                 58645 non-null  int64  \n",
      "dtypes: float64(3), int64(6), object(4)\n",
      "memory usage: 5.8+ MB\n"
     ]
    }
   ],
   "source": [
    "df_train.info()"
   ]
  },
  {
   "cell_type": "code",
   "execution_count": 5,
   "id": "48f7c128-28a5-4a26-9a7e-4c8449b1f284",
   "metadata": {},
   "outputs": [
    {
     "data": {
      "text/plain": [
       "id                            0\n",
       "person_age                    0\n",
       "person_income                 0\n",
       "person_home_ownership         0\n",
       "person_emp_length             0\n",
       "loan_intent                   0\n",
       "loan_grade                    0\n",
       "loan_amnt                     0\n",
       "loan_int_rate                 0\n",
       "loan_percent_income           0\n",
       "cb_person_default_on_file     0\n",
       "cb_person_cred_hist_length    0\n",
       "loan_status                   0\n",
       "dtype: int64"
      ]
     },
     "execution_count": 5,
     "metadata": {},
     "output_type": "execute_result"
    }
   ],
   "source": [
    "df_train.isna().sum()"
   ]
  },
  {
   "cell_type": "code",
   "execution_count": 6,
   "id": "a5ca2681-0635-44bb-b73f-9775975a65f3",
   "metadata": {},
   "outputs": [
    {
     "name": "stdout",
     "output_type": "stream",
     "text": [
      "<class 'pandas.core.frame.DataFrame'>\n",
      "RangeIndex: 39098 entries, 0 to 39097\n",
      "Data columns (total 12 columns):\n",
      " #   Column                      Non-Null Count  Dtype  \n",
      "---  ------                      --------------  -----  \n",
      " 0   id                          39098 non-null  int64  \n",
      " 1   person_age                  39098 non-null  int64  \n",
      " 2   person_income               39098 non-null  int64  \n",
      " 3   person_home_ownership       39098 non-null  object \n",
      " 4   person_emp_length           39098 non-null  float64\n",
      " 5   loan_intent                 39098 non-null  object \n",
      " 6   loan_grade                  39098 non-null  object \n",
      " 7   loan_amnt                   39098 non-null  int64  \n",
      " 8   loan_int_rate               39098 non-null  float64\n",
      " 9   loan_percent_income         39098 non-null  float64\n",
      " 10  cb_person_default_on_file   39098 non-null  object \n",
      " 11  cb_person_cred_hist_length  39098 non-null  int64  \n",
      "dtypes: float64(3), int64(5), object(4)\n",
      "memory usage: 3.6+ MB\n"
     ]
    }
   ],
   "source": [
    "df_test.info()"
   ]
  },
  {
   "cell_type": "code",
   "execution_count": 7,
   "id": "658a68ae-d49d-48a5-b3cf-cfb5c60d5868",
   "metadata": {},
   "outputs": [],
   "source": [
    "from sklearn.preprocessing import LabelEncoder"
   ]
  },
  {
   "cell_type": "code",
   "execution_count": 8,
   "id": "4374e967-0c77-47ec-8b34-a92313521a07",
   "metadata": {},
   "outputs": [],
   "source": [
    "label = LabelEncoder()"
   ]
  },
  {
   "cell_type": "code",
   "execution_count": 9,
   "id": "b4b5edec-0a9b-4030-bdba-626a6558fb49",
   "metadata": {},
   "outputs": [],
   "source": [
    "df_train['person_home_ownership'] = label.fit_transform(df_train['person_home_ownership'])"
   ]
  },
  {
   "cell_type": "code",
   "execution_count": 10,
   "id": "53ca78ff-43e4-4d00-9881-f7f30cdb63f7",
   "metadata": {},
   "outputs": [],
   "source": [
    "df_test['person_home_ownership'] = label.transform(df_test['person_home_ownership'])"
   ]
  },
  {
   "cell_type": "code",
   "execution_count": 11,
   "id": "00628b8d-aebe-46fb-94f2-df811cc61759",
   "metadata": {},
   "outputs": [],
   "source": [
    "df_train['loan_intent'] = label.fit_transform(df_train['loan_intent'])"
   ]
  },
  {
   "cell_type": "code",
   "execution_count": 12,
   "id": "fb1da2e1-dd26-4c3f-82f8-c4384650ac24",
   "metadata": {},
   "outputs": [],
   "source": [
    "df_test['loan_intent'] = label.transform(df_test['loan_intent'])"
   ]
  },
  {
   "cell_type": "code",
   "execution_count": 13,
   "id": "5a27e30a-afd8-4e6b-8050-92aaff18647e",
   "metadata": {},
   "outputs": [],
   "source": [
    "df_train['loan_grade'] = label.fit_transform(df_train['loan_grade'])"
   ]
  },
  {
   "cell_type": "code",
   "execution_count": 14,
   "id": "b8f25601-0032-4ffa-af88-2ddd7afe7cdd",
   "metadata": {},
   "outputs": [],
   "source": [
    "df_test['loan_grade'] = label.transform(df_test['loan_grade'])"
   ]
  },
  {
   "cell_type": "code",
   "execution_count": 15,
   "id": "6ecacfc6-be98-4e8c-89e5-a4264758eb9b",
   "metadata": {},
   "outputs": [],
   "source": [
    "df_train['cb_person_default_on_file'] = label.fit_transform(df_train['cb_person_default_on_file'])"
   ]
  },
  {
   "cell_type": "code",
   "execution_count": 16,
   "id": "dc0692ac-8e40-4987-99b6-a148db7a5a09",
   "metadata": {},
   "outputs": [],
   "source": [
    "df_test['cb_person_default_on_file'] = label.transform(df_test['cb_person_default_on_file'])"
   ]
  },
  {
   "cell_type": "code",
   "execution_count": 17,
   "id": "bffd2176-085c-4aa1-9902-93f0e2503ea7",
   "metadata": {},
   "outputs": [],
   "source": [
    "X = df_train.drop('loan_status', axis = 1)\n",
    "y = df_train['loan_status']"
   ]
  },
  {
   "cell_type": "code",
   "execution_count": 18,
   "id": "b08a6782-1747-40c1-89ee-e7cc11ff3e73",
   "metadata": {},
   "outputs": [],
   "source": [
    "from sklearn.linear_model import LogisticRegression"
   ]
  },
  {
   "cell_type": "code",
   "execution_count": 19,
   "id": "11f2aa7b-073d-4207-9b37-e1f4fc89266b",
   "metadata": {},
   "outputs": [],
   "source": [
    "model = LogisticRegression()"
   ]
  },
  {
   "cell_type": "code",
   "execution_count": 20,
   "id": "ca5d1eac-de0e-4cc8-b9da-b93b8b45beae",
   "metadata": {},
   "outputs": [],
   "source": [
    "from sklearn.model_selection import GridSearchCV, train_test_split"
   ]
  },
  {
   "cell_type": "code",
   "execution_count": 21,
   "id": "cfd1f114-6a19-4f5d-bd6b-a63827e63ca5",
   "metadata": {},
   "outputs": [],
   "source": [
    "from sklearn.preprocessing import StandardScaler"
   ]
  },
  {
   "cell_type": "code",
   "execution_count": 22,
   "id": "b552c6ae-5d00-4cde-9e14-531c36c14bdb",
   "metadata": {},
   "outputs": [],
   "source": [
    "scaler = StandardScaler()"
   ]
  },
  {
   "cell_type": "code",
   "execution_count": 23,
   "id": "bc00ba75-feeb-4eaf-9ab5-11f23ad546f1",
   "metadata": {},
   "outputs": [],
   "source": [
    "X = scaler.fit_transform(X)"
   ]
  },
  {
   "cell_type": "code",
   "execution_count": 24,
   "id": "8286b058-3c78-4a12-8894-439464ccdeed",
   "metadata": {},
   "outputs": [],
   "source": [
    "df_test = scaler.transform(df_test)"
   ]
  },
  {
   "cell_type": "code",
   "execution_count": 25,
   "id": "7440cb50-a1d3-4933-bcc0-971e5a8d6708",
   "metadata": {},
   "outputs": [],
   "source": [
    "params = {\n",
    "    'n_estimators': [100, 200],\n",
    "    'max_depth': [5, 10, None],\n",
    "    'min_samples_split': [2, 5],\n",
    "    'min_samples_leaf': [1, 2],\n",
    "    'max_features': ['sqrt']\n",
    "}"
   ]
  },
  {
   "cell_type": "code",
   "execution_count": 26,
   "id": "7efb2daa-6107-4b48-b0f2-61824f3696ed",
   "metadata": {},
   "outputs": [],
   "source": [
    "from sklearn.ensemble import RandomForestClassifier"
   ]
  },
  {
   "cell_type": "code",
   "execution_count": 27,
   "id": "643e066b-731c-4e6d-94d3-f4bbca45bdb4",
   "metadata": {},
   "outputs": [],
   "source": [
    "from sklearn.model_selection import cross_val_score"
   ]
  },
  {
   "cell_type": "code",
   "execution_count": 30,
   "id": "7c90fbb1-ffd7-4211-b082-cd858ce43f9f",
   "metadata": {},
   "outputs": [
    {
     "ename": "ModuleNotFoundError",
     "evalue": "No module named 'xgboost'",
     "output_type": "error",
     "traceback": [
      "\u001b[1;31m---------------------------------------------------------------------------\u001b[0m",
      "\u001b[1;31mModuleNotFoundError\u001b[0m                       Traceback (most recent call last)",
      "Cell \u001b[1;32mIn[30], line 1\u001b[0m\n\u001b[1;32m----> 1\u001b[0m \u001b[38;5;28;01mimport\u001b[39;00m\u001b[38;5;250m \u001b[39m\u001b[38;5;21;01mxgboost\u001b[39;00m\u001b[38;5;250m \u001b[39m\u001b[38;5;28;01mas\u001b[39;00m\u001b[38;5;250m \u001b[39m\u001b[38;5;21;01mxgb\u001b[39;00m\n",
      "\u001b[1;31mModuleNotFoundError\u001b[0m: No module named 'xgboost'"
     ]
    }
   ],
   "source": [
    "import xgboost as xgb"
   ]
  },
  {
   "cell_type": "code",
   "execution_count": null,
   "id": "a53e1d35-67d5-4ebf-aa2d-78fbe55a5c99",
   "metadata": {},
   "outputs": [],
   "source": []
  }
 ],
 "metadata": {
  "kernelspec": {
   "display_name": "Python 3 (ipykernel)",
   "language": "python",
   "name": "python3"
  },
  "language_info": {
   "codemirror_mode": {
    "name": "ipython",
    "version": 3
   },
   "file_extension": ".py",
   "mimetype": "text/x-python",
   "name": "python",
   "nbconvert_exporter": "python",
   "pygments_lexer": "ipython3",
   "version": "3.10.3"
  }
 },
 "nbformat": 4,
 "nbformat_minor": 5
}
